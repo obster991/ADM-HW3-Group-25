{
 "cells": [
  {
   "cell_type": "markdown",
   "metadata": {},
   "source": [
    "# * Loop for all elements in requests\n",
    "* Maintain two sums include and exclude\n",
    "* include = Max sum including the previous element\n",
    "* exclude = Max sum excluding the previous element\n",
    " \n",
    " \n",
    "* for i in requests:\n",
    "    * include = exclude + requests[i]\n",
    "    * exclude = max(include,exclude)\n",
    "\n",
    "\n",
    "* for selecting optimal values we will use \n",
    "\n",
    "* if sum(list) == exclude\n",
    "* list.append(requests[i])\n",
    "\n",
    "\n",
    "* during adding value we will have 3 type of situation \n",
    "1. sum(list) == exclude\n",
    "2. sum(list-last element) == exclude\n",
    "3. sum(list-last 2 element) == exclude\n",
    "\n",
    "\n",
    "* initially\n",
    "\n",
    "* requests = [30, 40, 25, 50, 30, 20]\n",
    "\n",
    "\n",
    "* include = 30                                \n",
    "* exclude = 0                                 \n",
    "* list1 = [30]\n",
    "* list2 = [0]\n",
    "\n",
    "* include = exclude + requests[i]\n",
    "* exclude = max(include,exclude)\n",
    "\n",
    "\n",
    "* for i = 1 (element is 40)\n",
    "* include = (exclude + requests[i]) = 40      \n",
    "* exclude = max(30, 0) = 30                   \n",
    "* list1 = [30]\n",
    "* list2 = [40]\n",
    "\n",
    "\n",
    "* for i = 2 (element is 25)                   \n",
    "* include = (exclude + requests[i]) = 55      \n",
    "* exclude = max(40, 30) = 40                  \n",
    "* list1 = [30,25]\n",
    "* list2 = [40]\n",
    "\n",
    "\n",
    "* for i = 3 (element is 50)\n",
    "* include = (exclude + requests[i]) = 90      \n",
    "* exclude = max(55, 40) = 55                  \n",
    "* list1 = [30,25]\n",
    "* list2 = [40,50]\n",
    "\n",
    "\n",
    "* for i = 4 (element is 30)                   \n",
    "* include = (exclude + requests[i]) = 85      \n",
    "* exclude = max(90, 55) = 90                  \n",
    "* list1 = [30,25,30]\n",
    "* list2 = [40,50]\n",
    "\n",
    "\n",
    "* for i = 5 (element is 20)\n",
    "* include = (exclude + requests[i]) = 110     \n",
    "* exclude = max(85, 90) = 90                  \n",
    "* list1 = [30,25,30]\n",
    "* list2 = [40,50,20]\n",
    "\n",
    "\n",
    "* 20 is the last element, So answer is max(110,90) = 110\n",
    "\n",
    "\n"
   ]
  },
  {
   "cell_type": "code",
   "execution_count": 165,
   "metadata": {},
   "outputs": [],
   "source": [
    "# Function to return max sum such that no two elements are consecutive \n",
    "def find_max_time(requests):\n",
    "    #creating include and exclude\n",
    "    include = 0 \n",
    "    exclude = 0\n",
    "    #creating 2 lists for adding values\n",
    "    list1 = []\n",
    "    list2 = []\n",
    "    #creating 2 lists for adding i+2 index value when we test i+3 index\n",
    "    list1_1 = []\n",
    "    list2_1 = []\n",
    "    #we have to know the len of request in order to pick i+2 or i+3 in last element\n",
    "    requests_len = len(requests)\n",
    "    \n",
    "\n",
    "    for i, j in zip(requests, range(requests_len)):\n",
    "        # Current max excluding i\n",
    "        new_exclude = exclude if exclude > include else include\n",
    "\n",
    "        # Storing value as a list\n",
    "        # before we apply \"include = exclude + requests[i]\" we find list that sum  is equal to exclude\n",
    "        if sum(list1) == exclude:\n",
    "            list1.append(i)\n",
    "        elif sum(list2) == exclude:\n",
    "            list2.append(i)\n",
    "\n",
    "        # if none of them is equal to exclude we check it without last value of list    \n",
    "        elif sum(list1[:-1]) == exclude:\n",
    "            list1_1.append(list1[-1]) # adding last value to list1_1\n",
    "            list1 = list1[:-1] # removing last value \n",
    "            list1.append(i) # adding current i\n",
    "            if len(list1_1)>1: # checking stored value in list 1_1 \n",
    "                list1_1 = list1_1[1:] #remove firs elemet it always store 1 element\n",
    "            #Last element control\n",
    "            if j == requests_len-1: # if i is last element\n",
    "                if sum(list1[:-1] + list1_1) > sum(list1): #compare last element and previous element which is we stored in list1_1\n",
    "                    list1 = list1[:-1] #  change last element\n",
    "                    list1 = list1 + list1_1[:1]\n",
    "                    \n",
    "        # applying same steps for list2 and list2_1\n",
    "        elif sum(list2[:-1]) == exclude:\n",
    "            list2_1.append(list2[-1]) # adding last value to list2_1\n",
    "            list2 = list2[:-1] # removing last value \n",
    "            list2.append(i) # adding current i\n",
    "            if len(list2_1)>1: # checking stored value in list 2_1 \n",
    "                list2_1 = list2_1[1:] #remove firs elemet it always store 1 element\n",
    "            #Last element control\n",
    "            if j == requests_len-1: # if i is last element\n",
    "                if sum(list2[:-1] + list2_1) > sum(list2): #compare last element and previous element which is we stored in list1_1\n",
    "                    list2 = list2[:-1] #  change last element\n",
    "                    list2 = list2 + list2_1[:1]                \n",
    "\n",
    "        # if none of previous conditions is true we replace last value in list with value is stored in list1_1            \n",
    "        elif sum(list1[:-1]+list1_1) == exclude:\n",
    "            list1_1.append(list1[-1]) #add last value to list1_1\n",
    "            list1 = list1[:-1]\n",
    "            list1 = list1 + list1_1[:1] #replace last value of list1 with first value of list1_1\n",
    "            list1.append(i)\n",
    "            if len(list1_1)>1:\n",
    "                list1_1 = list1_1[1:] #remove 1st element from list1_1 whish is added to  list1\n",
    "                \n",
    "            #Last element control\n",
    "            if j == requests_len-1: # check if i is last element\n",
    "                if sum(list1[:-2] + list1_1) > sum(list1): # compare list with raplacing last value\n",
    "                    list1 = list1[:-2]\n",
    "                    list1 = list1 + list1_1 #adding back previous value\n",
    "                    \n",
    "        # for list2\n",
    "        else:\n",
    "            list2_1.append(list2[-1])#add last value to list2_1\n",
    "            list2 = list2[:-1]\n",
    "            list2 = list2 + list2_1[:1]#replace last value of list2 with first value of list2_1\n",
    "            list2.append(i)\n",
    "            if len(list2_1)>1:\n",
    "                list2_1 = list2_1[1:] #remove 1st element from list2_1 whish is added to  list2\n",
    "                \n",
    "            #Last element control\n",
    "            if j == requests_len-1:# check if i is last element\n",
    "                if sum(list2[:-2] + list2_1) > sum(list2):# compare list with raplacing last value\n",
    "                    list2 = list2[:-2]\n",
    "                    list2 = list2 + list2_1 #adding back previous value\n",
    "\n",
    "        # Current max including i\n",
    "        include = exclude + i \n",
    "        exclude = new_exclude\n",
    "    \n",
    "    # return max of include, exclude and list1, list2\n",
    "    return (exclude if exclude > include else include, list1 if sum(list1) > sum(list2) else list2)"
   ]
  },
  {
   "cell_type": "code",
   "execution_count": 166,
   "metadata": {
    "scrolled": false
   },
   "outputs": [],
   "source": [
    "def request():  \n",
    "    # creating an empty list\n",
    "    requests = []\n",
    "\n",
    "    # number of elements as input\n",
    "    n = int(input(\"Enter number of elements : \"))\n",
    "\n",
    "    # iterating till the range\n",
    "    for i in range(0, n):\n",
    "        element = int(input())\n",
    "\n",
    "        requests.append(element) # adding the element\n",
    "\n",
    "    print(requests)\n",
    "    print ('Maximum duration: ',find_max_sum(requests))"
   ]
  },
  {
   "cell_type": "code",
   "execution_count": 167,
   "metadata": {},
   "outputs": [
    {
     "name": "stdout",
     "output_type": "stream",
     "text": [
      "Enter number of elements : 7\n",
      "30\n",
      "40\n",
      "25\n",
      "50\n",
      "30\n",
      "20\n",
      "70\n",
      "[30, 40, 25, 50, 30, 20, 70]\n",
      "Maximum duration:  (160, [40, 50, 70])\n"
     ]
    }
   ],
   "source": [
    "request()"
   ]
  },
  {
   "cell_type": "code",
   "execution_count": 168,
   "metadata": {},
   "outputs": [
    {
     "name": "stdout",
     "output_type": "stream",
     "text": [
      "Enter number of elements : 7\n",
      "30\n",
      "40\n",
      "25\n",
      "50\n",
      "30\n",
      "20\n",
      "10\n",
      "[30, 40, 25, 50, 30, 20, 10]\n",
      "Maximum duration:  (110, [40, 50, 20])\n"
     ]
    }
   ],
   "source": [
    "request()"
   ]
  },
  {
   "cell_type": "code",
   "execution_count": 169,
   "metadata": {},
   "outputs": [
    {
     "name": "stdout",
     "output_type": "stream",
     "text": [
      "Enter number of elements : 8\n",
      "30\n",
      "40\n",
      "25\n",
      "50\n",
      "30\n",
      "20\n",
      "10\n",
      "40\n",
      "[30, 40, 25, 50, 30, 20, 10, 40]\n",
      "Maximum duration:  (150, [40, 50, 20, 40])\n"
     ]
    }
   ],
   "source": [
    "request()"
   ]
  },
  {
   "cell_type": "code",
   "execution_count": 170,
   "metadata": {},
   "outputs": [
    {
     "name": "stdout",
     "output_type": "stream",
     "text": [
      "Enter number of elements : 10\n",
      "30\n",
      "20\n",
      "50\n",
      "40\n",
      "30\n",
      "60\n",
      "70\n",
      "20\n",
      "30\n",
      "50\n",
      "[30, 20, 50, 40, 30, 60, 70, 20, 30, 50]\n",
      "Maximum duration:  (230, [30, 50, 30, 70, 50])\n"
     ]
    }
   ],
   "source": [
    "request()"
   ]
  },
  {
   "cell_type": "code",
   "execution_count": 171,
   "metadata": {},
   "outputs": [
    {
     "name": "stdout",
     "output_type": "stream",
     "text": [
      "Enter number of elements : 3\n",
      "20\n",
      "30\n",
      "5\n",
      "[20, 30, 5]\n",
      "Maximum duration:  (30, [30])\n"
     ]
    }
   ],
   "source": [
    "request()"
   ]
  },
  {
   "cell_type": "code",
   "execution_count": 172,
   "metadata": {},
   "outputs": [
    {
     "name": "stdout",
     "output_type": "stream",
     "text": [
      "Enter number of elements : 5\n",
      "20\n",
      "30\n",
      "20\n",
      "50\n",
      "60\n",
      "[20, 30, 20, 50, 60]\n",
      "Maximum duration:  (100, [20, 20, 60])\n"
     ]
    }
   ],
   "source": [
    "request()"
   ]
  },
  {
   "cell_type": "code",
   "execution_count": 173,
   "metadata": {},
   "outputs": [
    {
     "name": "stdout",
     "output_type": "stream",
     "text": [
      "Enter number of elements : 5\n",
      "30\n",
      "20\n",
      "20\n",
      "50\n",
      "20\n",
      "[30, 20, 20, 50, 20]\n",
      "Maximum duration:  (80, [30, 20, 20])\n"
     ]
    }
   ],
   "source": [
    "request()"
   ]
  },
  {
   "cell_type": "code",
   "execution_count": null,
   "metadata": {},
   "outputs": [],
   "source": []
  }
 ],
 "metadata": {
  "kernelspec": {
   "display_name": "Python 3",
   "language": "python",
   "name": "python3"
  },
  "language_info": {
   "codemirror_mode": {
    "name": "ipython",
    "version": 3
   },
   "file_extension": ".py",
   "mimetype": "text/x-python",
   "name": "python",
   "nbconvert_exporter": "python",
   "pygments_lexer": "ipython3",
   "version": "3.7.6"
  }
 },
 "nbformat": 4,
 "nbformat_minor": 4
}
