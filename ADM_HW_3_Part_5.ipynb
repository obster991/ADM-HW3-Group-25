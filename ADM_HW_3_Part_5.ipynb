{
 "cells": [
  {
   "cell_type": "raw",
   "metadata": {},
   "source": [
    "# * Loop for all elements in requests\n",
    "* Maintain two sums include and exclude\n",
    "* include = Max sum including the previous element\n",
    "* exclude = Max sum excluding the previous element\n",
    "\n",
    "for i in requests:\n",
    "    include = exclude + requests[i]\n",
    "    exclude = max(include,exclude)\n"
   ]
  },
  {
   "cell_type": "code",
   "execution_count": 159,
   "metadata": {},
   "outputs": [],
   "source": [
    "# Function to return max sum such that no two elements are consecutive \n",
    "def find_max_time(requests):\n",
    "    include = 0\n",
    "    exclude = 0\n",
    "    list1 = []\n",
    "    list2 = []\n",
    "    list1_1 = []\n",
    "    list2_1 = []\n",
    "    requests_len = len(requests)\n",
    "    \n",
    "\n",
    "    for i, j in zip(requests, range(requests_len)):\n",
    "        # Current max excluding i\n",
    "        new_exclude = exclude if exclude > include else include\n",
    "\n",
    "        # Storing value as a list\n",
    "        #check +2 index\n",
    "        if sum(list1) == exclude:\n",
    "            list1.append(i)\n",
    "        elif sum(list2) == exclude:\n",
    "            list2.append(i)\n",
    "\n",
    "        #check +3 index\n",
    "        elif sum(list1[:-1]) == exclude:\n",
    "            list1_1.append(list1[-1])\n",
    "            list1 = list1[:-1]\n",
    "            list1.append(i)\n",
    "            if len(list1_1)>1:\n",
    "                list1_1 = list1_1[1:]\n",
    "            #Last element control\n",
    "            if j == requests_len-1:\n",
    "                if sum(list1[:-1] + list1_1) > sum(list1):\n",
    "                    list1 = list1[:-1]\n",
    "                    list1 = list1 + list1_1[:1]\n",
    "\n",
    "        elif sum(list2[:-1]) == exclude:\n",
    "            list2_1.append(list2[-1])\n",
    "            list2 = list2[:-1]\n",
    "            list2.append(i)\n",
    "            if len(list2_1)>1:\n",
    "                list2_1 = list2_1[1:]\n",
    "            #Last element control\n",
    "            if j == requests_len-1:\n",
    "                if sum(list2[:-1] + list2_1) > sum(list2):\n",
    "                    list2 = list2[:-1]\n",
    "                    list2 = list2 + list2_1[:1]                \n",
    "\n",
    "        #if +3 is not correct -1 and +2 index     \n",
    "        elif sum(list1[:-1]+list1_1) == exclude:\n",
    "            list1_1.append(list1[-1])\n",
    "            list1 = list1[:-1]\n",
    "            list1 = list1 + list1_1[:1]\n",
    "            list1.append(i)\n",
    "            if len(list1_1)>1:\n",
    "                list1_1 = list1_1[1:]\n",
    "                \n",
    "            #Last element control\n",
    "            if j == requests_len-1:\n",
    "                if sum(list1[:-2] + list1_1) > sum(list1):\n",
    "                    list1 = list1[:-2]\n",
    "                    list1 = list1 + list1_1\n",
    "\n",
    "        else:\n",
    "            list2_1.append(list2[-1])\n",
    "            list2 = list2[:-1]\n",
    "            list2 = list2 + list2_1[:1]\n",
    "            list2.append(i)\n",
    "            if len(list2_1)>1:\n",
    "                list2_1 = list2_1[1:]\n",
    "                \n",
    "            #Last element control\n",
    "            if j == requests_len-1:\n",
    "                if sum(list2[:-2] + list2_1) > sum(list2):\n",
    "                    list2 = list2[:-2]\n",
    "                    list2 = list2 + list2_1\n",
    "\n",
    "        # Current max including i\n",
    "        include = exclude + i\n",
    "        exclude = new_exclude\n",
    "    \n",
    "    # return max of include, exclude and list1, list2\n",
    "    return (exclude if exclude > include else include, list1 if sum(list1) > sum(list2) else list2)"
   ]
  },
  {
   "cell_type": "code",
   "execution_count": 160,
   "metadata": {
    "scrolled": false
   },
   "outputs": [],
   "source": [
    "def request():  \n",
    "    # creating an empty list\n",
    "    requests = []\n",
    "\n",
    "    # number of elements as input\n",
    "    n = int(input(\"Enter number of elements : \"))\n",
    "\n",
    "    # iterating till the range\n",
    "    for i in range(0, n):\n",
    "        element = int(input())\n",
    "\n",
    "        requests.append(element) # adding the element\n",
    "\n",
    "    print(requests)\n",
    "    print ('Maximum duration: ',find_max_sum(requests))"
   ]
  },
  {
   "cell_type": "code",
   "execution_count": 162,
   "metadata": {},
   "outputs": [
    {
     "name": "stdout",
     "output_type": "stream",
     "text": [
      "Enter number of elements : 7\n",
      "30\n",
      "40\n",
      "25\n",
      "50\n",
      "30\n",
      "20\n",
      "70\n",
      "[30, 40, 25, 50, 30, 20, 70]\n",
      "Maximum duration:  (160, [40, 50, 70])\n"
     ]
    }
   ],
   "source": [
    "request()"
   ]
  },
  {
   "cell_type": "code",
   "execution_count": 121,
   "metadata": {},
   "outputs": [
    {
     "name": "stdout",
     "output_type": "stream",
     "text": [
      "Enter number of elements : 7\n",
      "30\n",
      "40\n",
      "25\n",
      "50\n",
      "30\n",
      "20\n",
      "10\n",
      "[30, 40, 25, 50, 30, 20, 10]\n",
      "Maximum duration:  (110, [40, 50, 20])\n"
     ]
    }
   ],
   "source": [
    "request()"
   ]
  },
  {
   "cell_type": "code",
   "execution_count": 122,
   "metadata": {},
   "outputs": [
    {
     "name": "stdout",
     "output_type": "stream",
     "text": [
      "Enter number of elements : 8\n",
      "30\n",
      "40\n",
      "25\n",
      "50\n",
      "30\n",
      "20\n",
      "10\n",
      "40\n",
      "[30, 40, 25, 50, 30, 20, 10, 40]\n",
      "Maximum duration:  (150, [40, 50, 20, 40])\n"
     ]
    }
   ],
   "source": [
    "request()"
   ]
  },
  {
   "cell_type": "code",
   "execution_count": 123,
   "metadata": {},
   "outputs": [
    {
     "name": "stdout",
     "output_type": "stream",
     "text": [
      "Enter number of elements : 9\n",
      "30\n",
      "20\n",
      "50\n",
      "40\n",
      "30\n",
      "60\n",
      "70\n",
      "20\n",
      "30\n",
      "[30, 20, 50, 40, 30, 60, 70, 20, 30]\n",
      "Maximum duration:  (210, [30, 50, 30, 70, 30])\n"
     ]
    }
   ],
   "source": [
    "request()"
   ]
  },
  {
   "cell_type": "code",
   "execution_count": 124,
   "metadata": {},
   "outputs": [
    {
     "name": "stdout",
     "output_type": "stream",
     "text": [
      "Enter number of elements : 3\n",
      "20\n",
      "30\n",
      "5\n",
      "[20, 30, 5]\n",
      "Maximum duration:  (30, [30])\n"
     ]
    }
   ],
   "source": [
    "request()"
   ]
  },
  {
   "cell_type": "code",
   "execution_count": 126,
   "metadata": {},
   "outputs": [
    {
     "name": "stdout",
     "output_type": "stream",
     "text": [
      "Enter number of elements : 5\n",
      "20\n",
      "30\n",
      "20\n",
      "50\n",
      "60\n",
      "[20, 30, 20, 50, 60]\n",
      "Maximum duration:  (100, [20, 20, 60])\n"
     ]
    }
   ],
   "source": [
    "request()"
   ]
  },
  {
   "cell_type": "code",
   "execution_count": 142,
   "metadata": {},
   "outputs": [
    {
     "name": "stdout",
     "output_type": "stream",
     "text": [
      "Enter number of elements : 6\n",
      "30\n",
      "20\n",
      "30\n",
      "20\n",
      "30\n",
      "20\n",
      "[30, 20, 30, 20, 30, 20]\n",
      "Maximum duration:  (90, [30, 30, 30])\n"
     ]
    }
   ],
   "source": [
    "request()"
   ]
  }
 ],
 "metadata": {
  "kernelspec": {
   "display_name": "Python 3",
   "language": "python",
   "name": "python3"
  },
  "language_info": {
   "codemirror_mode": {
    "name": "ipython",
    "version": 3
   },
   "file_extension": ".py",
   "mimetype": "text/x-python",
   "name": "python",
   "nbconvert_exporter": "python",
   "pygments_lexer": "ipython3",
   "version": "3.7.6"
  }
 },
 "nbformat": 4,
 "nbformat_minor": 4
}
