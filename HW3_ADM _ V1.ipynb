{
 "cells": [
  {
   "cell_type": "markdown",
   "id": "d64f13d2",
   "metadata": {},
   "source": [
    "# Homework 3 - What is the best anime in the world?"
   ]
  },
  {
   "cell_type": "markdown",
   "id": "f4b61cb8",
   "metadata": {},
   "source": [
    "## 1. Data collection"
   ]
  },
  {
   "cell_type": "code",
   "execution_count": 29,
   "id": "070d86e6",
   "metadata": {},
   "outputs": [],
   "source": [
    "import requests as r\n",
    "from bs4 import BeautifulSoup\n",
    "from tqdm import tqdm\n",
    "import pandas as pd\n",
    "import os"
   ]
  },
  {
   "cell_type": "markdown",
   "id": "888f0fe7",
   "metadata": {},
   "source": [
    "### 1.1. Get the list of animes"
   ]
  },
  {
   "cell_type": "code",
   "execution_count": 21,
   "id": "47d3ffca",
   "metadata": {},
   "outputs": [
    {
     "name": "stderr",
     "output_type": "stream",
     "text": [
      "100%|████████████████████████████████████████████████████████████████████████████████| 383/383 [05:12<00:00,  1.23it/s]\n"
     ]
    }
   ],
   "source": [
    "# 19130 anime in total, 383 pages with 50 animes\n",
    "\n",
    "with open(\"C:/Users/andre/Desktop/list_anime.txt\", \"w\", encoding='utf-8') as file:\n",
    "    \n",
    "    for page in tqdm(range(0, 383)):\n",
    "    \n",
    "        # URL of the single page \n",
    "        url = 'https://myanimelist.net/topanime.php?limit=' + str(page * 50)\n",
    "        \n",
    "        # Get response object\n",
    "        response = r.get(url)\n",
    "        \n",
    "        # Get html\n",
    "        soup = BeautifulSoup(response.text, 'html.parser')\n",
    "        \n",
    "        # Find all links iterating through the document\n",
    "        for tag in soup.find_all(\"tr\", class_=\"ranking-list\"):\n",
    "            a_list = tag.find_all('a', class_=\"hoverinfo_trigger fl-l ml12 mr8\" ,href=True)\n",
    "            for a in a_list:\n",
    "                link = a['href']\n",
    "                file.write(str(link) + '\\n')\n",
    "                \n",
    "file.close()"
   ]
  },
  {
   "cell_type": "markdown",
   "id": "02938bac",
   "metadata": {},
   "source": [
    "### 1.2. Crawl animes"
   ]
  },
  {
   "cell_type": "code",
   "execution_count": 33,
   "id": "cb76c4af",
   "metadata": {},
   "outputs": [],
   "source": [
    "file = open(\"C:/Users/andre/Desktop/prova_anime.txt\", \"r\", encoding='utf-8')\n",
    "counter_anime = 0\n",
    "page = 0\n",
    "for line in file:\n",
    "    counter_anime += 1\n",
    "    if (counter%50 == 1):\n",
    "        page +=1\n",
    "    response = r.get(line)\n",
    "    soup = BeautifulSoup(response.text, 'html.parser')\n",
    "    \n",
    "    try:\n",
    "        os.mkdir(\"C:/Users/andre/Desktop/Anime/Page\" + str(page))\n",
    "    except OSError:\n",
    "        pass\n",
    "    \n",
    "    with open(\"C:/Users/andre/Desktop/Anime/Page\" + str(page) + \"/article_\" + str(counter_anime)+ \".html\", \"w\", encoding='utf-8') as file:\n",
    "        file.write(str(soup))"
   ]
  },
  {
   "cell_type": "code",
   "execution_count": 24,
   "id": "1b191e84",
   "metadata": {},
   "outputs": [
    {
     "name": "stdout",
     "output_type": "stream",
     "text": [
      "19130\n"
     ]
    }
   ],
   "source": [
    "# Count anime links in file\n",
    "\n",
    "file = open(\"C:/Users/andre/Desktop/list_anime.txt\", \"r\", encoding='utf-8')\n",
    "line_count = 0\n",
    "for line in file:\n",
    "    if line != \"\\n\":\n",
    "        line_count += 1\n",
    "file.close()\n",
    "\n",
    "print(line_count)"
   ]
  }
 ],
 "metadata": {
  "kernelspec": {
   "display_name": "Python 3 (ipykernel)",
   "language": "python",
   "name": "python3"
  },
  "language_info": {
   "codemirror_mode": {
    "name": "ipython",
    "version": 3
   },
   "file_extension": ".py",
   "mimetype": "text/x-python",
   "name": "python",
   "nbconvert_exporter": "python",
   "pygments_lexer": "ipython3",
   "version": "3.7.6"
  }
 },
 "nbformat": 4,
 "nbformat_minor": 5
}
