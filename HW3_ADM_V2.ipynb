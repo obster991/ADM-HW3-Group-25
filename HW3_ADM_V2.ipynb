{
 "cells": [
  {
   "cell_type": "markdown",
   "id": "d64f13d2",
   "metadata": {},
   "source": [
    "# Homework 3 - What is the best anime in the world?"
   ]
  },
  {
   "cell_type": "markdown",
   "id": "f4b61cb8",
   "metadata": {},
   "source": [
    "## 1. Data collection"
   ]
  },
  {
   "cell_type": "code",
   "execution_count": 122,
   "id": "e300f25e",
   "metadata": {},
   "outputs": [],
   "source": [
    "import requests as r\n",
    "from bs4 import BeautifulSoup\n",
    "from tqdm import tqdm\n",
    "import pandas as pd\n",
    "import os\n",
    "from datetime import datetime"
   ]
  },
  {
   "cell_type": "markdown",
   "id": "4c74c803",
   "metadata": {},
   "source": [
    "### 1.1. Get the list of animes"
   ]
  },
  {
   "cell_type": "code",
   "execution_count": 21,
   "id": "47d3ffca",
   "metadata": {},
   "outputs": [
    {
     "name": "stderr",
     "output_type": "stream",
     "text": [
      "100%|████████████████████████████████████████████████████████████████████████████████| 383/383 [05:12<00:00,  1.23it/s]\n"
     ]
    }
   ],
   "source": [
    "# 19130 anime in total, 383 pages with 50 animes\n",
    "\n",
    "with open(\"C:/Users/andre/Desktop/list_anime.txt\", \"w\", encoding='utf-8') as file:\n",
    "    \n",
    "    for page in tqdm(range(0, 383)):\n",
    "    \n",
    "        # URL of the single page \n",
    "        url = 'https://myanimelist.net/topanime.php?limit=' + str(page * 50)\n",
    "        \n",
    "        # Get response object\n",
    "        response = r.get(url)\n",
    "        \n",
    "        # Get html\n",
    "        soup = BeautifulSoup(response.text, 'html.parser')\n",
    "        \n",
    "        # Find all links iterating through the document\n",
    "        for tag in soup.find_all(\"tr\", class_=\"ranking-list\"):\n",
    "            a_list = tag.find_all('a', class_=\"hoverinfo_trigger fl-l ml12 mr8\" ,href=True)\n",
    "            for a in a_list:\n",
    "                link = a['href']\n",
    "                file.write(str(link) + '\\n')\n",
    "                \n",
    "file.close()"
   ]
  },
  {
   "cell_type": "markdown",
   "id": "858e0d6f",
   "metadata": {},
   "source": [
    "### 1.2. Crawl animes"
   ]
  },
  {
   "cell_type": "code",
   "execution_count": 33,
   "id": "ce53ce4d",
   "metadata": {},
   "outputs": [],
   "source": [
    "file = open(\"C:/Users/andre/Desktop/prova_anime.txt\", \"r\", encoding='utf-8')\n",
    "\n",
    "counter_anime = 0\n",
    "page = 0\n",
    "\n",
    "for line in file:\n",
    "    counter_anime += 1\n",
    "    if (counter%50 == 1):\n",
    "        page +=1\n",
    "    response = r.get(line)\n",
    "    soup = BeautifulSoup(response.text, 'html.parser')\n",
    "    \n",
    "    try:\n",
    "        os.mkdir(\"C:/Users/andre/Desktop/Anime/Page\" + str(page))\n",
    "    except OSError:\n",
    "        pass\n",
    "    \n",
    "    with open(\"C:/Users/andre/Desktop/Anime/Page\" + str(page) + \"/article_\" + str(counter_anime)+ \".html\", \"w\", encoding='utf-8') as file:\n",
    "        file.write(str(soup))"
   ]
  },
  {
   "cell_type": "code",
   "execution_count": 24,
   "id": "729d9b98",
   "metadata": {},
   "outputs": [
    {
     "name": "stdout",
     "output_type": "stream",
     "text": [
      "19130\n"
     ]
    }
   ],
   "source": [
    "# Count anime links in file\n",
    "\n",
    "file = open(\"C:/Users/andre/Desktop/list_anime.txt\", \"r\", encoding='utf-8')\n",
    "line_count = 0\n",
    "for line in file:\n",
    "    if line != \"\\n\":\n",
    "        line_count += 1\n",
    "file.close()\n",
    "\n",
    "print(line_count)"
   ]
  },
  {
   "cell_type": "markdown",
   "id": "24e0048d",
   "metadata": {},
   "source": [
    "### 1.3 Parse downloaded pages"
   ]
  },
  {
   "cell_type": "code",
   "execution_count": 279,
   "id": "08aa40ec",
   "metadata": {},
   "outputs": [
    {
     "name": "stdout",
     "output_type": "stream",
     "text": [
      "[<a class=\"fw-n\" href=\"https://myanimelist.net/people/203/Justin_Cook\">\n",
      "<img alt=\"Cook, Justin\" class=\"lazyload\" data-src=\"https://cdn.myanimelist.net/r/42x62/images/voiceactors/2/12472.jpg?s=022c537cbbc0d397a3403db7bced4c3e\" data-srcset=\"https://cdn.myanimelist.net/r/42x62/images/voiceactors/2/12472.jpg?s=022c537cbbc0d397a3403db7bced4c3e 1x, https://cdn.myanimelist.net/r/84x124/images/voiceactors/2/12472.jpg?s=51263c7d2af02452fe3376ef4d372f8b 2x\" height=\"62\" width=\"42\"/>\n",
      "</a>]\n",
      "[]\n",
      "[<a class=\"fw-n\" href=\"https://myanimelist.net/people/55215/Noritomo_Yonai\">\n",
      "<img alt=\"Yonai, Noritomo\" class=\"lazyload\" data-src=\"https://cdn.myanimelist.net/r/42x62/images/questionmark_23.gif?s=f7dcbc4a4603d18356d3dfef8abd655c\" data-srcset=\"https://cdn.myanimelist.net/r/42x62/images/questionmark_23.gif?s=f7dcbc4a4603d18356d3dfef8abd655c 1x, https://cdn.myanimelist.net/r/84x124/images/questionmark_23.gif?s=b2caae0942e99347ceebbfe730682689 2x\" height=\"62\" width=\"42\"/>\n",
      "</a>]\n",
      "[]\n",
      "[<a class=\"fw-n\" href=\"https://myanimelist.net/people/6232/Yasuhiro_Irie\">\n",
      "<img alt=\"Irie, Yasuhiro\" class=\"lazyload\" data-src=\"https://cdn.myanimelist.net/r/42x62/images/voiceactors/1/54798.jpg?s=2eb065a9f648fc03a070c58c63aff2df\" data-srcset=\"https://cdn.myanimelist.net/r/42x62/images/voiceactors/1/54798.jpg?s=2eb065a9f648fc03a070c58c63aff2df 1x, https://cdn.myanimelist.net/r/84x124/images/voiceactors/1/54798.jpg?s=82b91e0b097854f10597a17bd900abf2 2x\" height=\"62\" width=\"42\"/>\n",
      "</a>]\n",
      "[]\n",
      "[<a class=\"fw-n\" href=\"https://myanimelist.net/people/16749/Masafumi_Mima\">\n",
      "<img alt=\"Mima, Masafumi\" class=\"lazyload\" data-src=\"https://cdn.myanimelist.net/r/42x62/images/voiceactors/2/54386.jpg?s=470ee81b3938a230a03d54b848831616\" data-srcset=\"https://cdn.myanimelist.net/r/42x62/images/voiceactors/2/54386.jpg?s=470ee81b3938a230a03d54b848831616 1x, https://cdn.myanimelist.net/r/84x124/images/voiceactors/2/54386.jpg?s=95e85f8837ab99b82f07c878473d635e 2x\" height=\"62\" width=\"42\"/>\n",
      "</a>]\n",
      "[]\n"
     ]
    }
   ],
   "source": [
    "# Create file .tsv\n",
    "\n",
    "with open(\"C:/Users/andre/Desktop/Anime/Page1/anime1.html\", \"r\", encoding='utf-8') as file:\n",
    "    \n",
    "    # Read file and parse html code\n",
    "    content_page = file.read()\n",
    "    soup = BeautifulSoup(content_page, 'html.parser')\n",
    "    \n",
    "    title = soup.find_all(\"h1\", class_=\"title-name h1_bold_none\")[0].find(\"strong\").text\n",
    "    \n",
    "    information = soup.find_all(\"div\", class_=\"spaceit_pad\")\n",
    "    \n",
    "    # Iterate over information ResultSet\n",
    "    for i in range(0, len(information)):\n",
    "        \n",
    "        # Anime type\n",
    "        if information[i].find(\"span\", string='Type:') != None:\n",
    "            animeType = information[i].find('a').text\n",
    "            \n",
    "        # N-episodes\n",
    "        if information[i].find(\"span\", string='Episodes:') != None:\n",
    "            animeNumEpisode = information[i].contents[2].strip()\n",
    "        \n",
    "        # Dates\n",
    "        if information[i].find(\"span\", string='Aired:') != None:\n",
    "            dates = information[i].contents[2].strip().split(\"to\")\n",
    "            releaseDate = datetime.strptime(dates[0].strip(), '%b %d, %Y').date()\n",
    "            endDate = datetime.strptime(dates[1].strip(), '%b %d, %Y').date()\n",
    "            \n",
    "        # Number of members\n",
    "        if information[i].find(\"span\", string='Members:') != None:\n",
    "            animeNumMembers = information[i].contents[2].strip()\n",
    "        \n",
    "        # Score of anime\n",
    "        if information[i].find(\"span\", itemprop='ratingValue') != None:\n",
    "            animeScore = information[i].find(\"span\", itemprop='ratingValue').text\n",
    "            \n",
    "        # Anime Users\n",
    "        if information[i].find(\"span\", itemprop='ratingCount') != None:\n",
    "            animeUsers = information[i].find(\"span\", itemprop='ratingCount').text\n",
    "        \n",
    "        # Anime Rank\n",
    "        if information[i].find(\"span\", string='Ranked:') != None:\n",
    "            animeRank = information[i].contents[2].strip().replace(\"#\", \"\")\n",
    "            \n",
    "        # Anime Popularity\n",
    "        if information[i].find(\"span\", string='Popularity:') != None:\n",
    "            animePopularity = information[i].contents[2].strip().replace(\"#\", \"\")\n",
    "    \n",
    "    # Anime Description\n",
    "    animeDescription = soup.find(\"p\", itemprop='description').text\n",
    "    \n",
    "    # Related Animes\n",
    "    related_anime_table = soup.find(\"table\", class_=\"anime_detail_related_anime\")\n",
    "    links_list = [link.text for link in related_anime_table.find_all(\"a\")]\n",
    "    links_list = list(set(links_list))\n",
    "    \n",
    "    # Characters\n",
    "    characters_div = soup.find_all(\"div\", class_=\"detail-characters-list clearfix\")[0]\n",
    "    \n",
    "    animeCharacters = characters_div.find_all(\"h3\", class_=\"h3_characters_voice_actors\")\n",
    "    animeCharacters = [character.text for character in animeCharacters]\n",
    "    \n",
    "    animeVoices = characters_div.find_all(\"td\", class_=\"va-t ar pl4 pr4\")\n",
    "    animeVoices = [actor.find(\"a\").text for actor in animeVoices]\n",
    "    \n",
    "    div = soup.find_all(\"div\", class_=\"detail-characters-list clearfix\")[1]\n",
    "    tds = div.find_all(\"td\", class_=\"borderClass\")\n",
    "    a = []\n",
    "    for td in tds:\n",
    "        print(td.find_all(\"a\", class_=\"fw-n\"))\n",
    "    \n",
    "    small = div.find_all(\"small\")\n",
    "    lista = zip(a, small)\n",
    "        \n",
    "file.close()"
   ]
  },
  {
   "cell_type": "code",
   "execution_count": null,
   "id": "641863ae",
   "metadata": {},
   "outputs": [],
   "source": []
  },
  {
   "cell_type": "code",
   "execution_count": null,
   "id": "afbb4139",
   "metadata": {},
   "outputs": [],
   "source": []
  },
  {
   "cell_type": "code",
   "execution_count": null,
   "id": "d19c9990",
   "metadata": {},
   "outputs": [],
   "source": []
  }
 ],
 "metadata": {
  "kernelspec": {
   "display_name": "Python 3 (ipykernel)",
   "language": "python",
   "name": "python3"
  },
  "language_info": {
   "codemirror_mode": {
    "name": "ipython",
    "version": 3
   },
   "file_extension": ".py",
   "mimetype": "text/x-python",
   "name": "python",
   "nbconvert_exporter": "python",
   "pygments_lexer": "ipython3",
   "version": "3.7.6"
  }
 },
 "nbformat": 4,
 "nbformat_minor": 5
}
